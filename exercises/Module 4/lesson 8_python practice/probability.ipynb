{
 "cells": [
  {
   "cell_type": "markdown",
   "metadata": {},
   "source": [
    "# Coin Flips and Die Rolls\n",
    "Use NumPy to create simulations and compute proportions for the following outcomes. The first one is done for you."
   ]
  },
  {
   "cell_type": "code",
   "execution_count": 1,
   "metadata": {},
   "outputs": [],
   "source": [
    "# import numpy\n",
    "import numpy as np"
   ]
  },
  {
   "cell_type": "markdown",
   "metadata": {},
   "source": [
    "### 1. Two fair coin flips produce exactly two heads"
   ]
  },
  {
   "cell_type": "code",
   "execution_count": 6,
   "metadata": {},
   "outputs": [
    {
     "name": "stdout",
     "output_type": "stream",
     "text": [
      "[[1 1]\n",
      " [1 0]\n",
      " [1 1]\n",
      " ..., \n",
      " [1 0]\n",
      " [0 1]\n",
      " [1 1]]\n",
      "0.250162\n"
     ]
    }
   ],
   "source": [
    "# simulate 1 million tests of two fair coin flips\n",
    "tests = np.random.randint(2, size=(int(1e6), 2))\n",
    "print (tests)\n",
    "# sums of all tests\n",
    "test_sums = tests.sum(axis=1)\n",
    "\n",
    "# proportion of tests that produced exactly two heads\n",
    "print((test_sums == 0).mean())"
   ]
  },
  {
   "cell_type": "markdown",
   "metadata": {},
   "source": [
    "### 2. Three fair coin flips produce exactly one head"
   ]
  },
  {
   "cell_type": "code",
   "execution_count": 11,
   "metadata": {},
   "outputs": [
    {
     "name": "stdout",
     "output_type": "stream",
     "text": [
      "0.374158\n"
     ]
    }
   ],
   "source": [
    "# simulate 1 million tests of three fair coin flips\n",
    "tests = np.random.randint(2,size=(int(1e6), 3))\n",
    "tests\n",
    "# sums of all tests\n",
    "test_sums = tests.sum(axis=1) \n",
    "\n",
    "# proportion of tests that produced exactly one head\n",
    "print((test_sums == 2).mean())"
   ]
  },
  {
   "cell_type": "markdown",
   "metadata": {},
   "source": [
    "### 3. Three biased coin flips with P(H) = 0.6 produce exactly one head"
   ]
  },
  {
   "cell_type": "code",
   "execution_count": 12,
   "metadata": {},
   "outputs": [
    {
     "name": "stdout",
     "output_type": "stream",
     "text": [
      "0.28806\n"
     ]
    }
   ],
   "source": [
    "# simulate 1 million tests of three bias coin flips\n",
    "# hint: use np.random.choice()\n",
    "tests = np.random.choice([0,1],size=(int(1e6), 3), p =[0.6,0.4] )\n",
    "\n",
    "# sums of all tests\n",
    "test_sums = tests.sum(axis=1) \n",
    "\n",
    "# proportion of tests that produced exactly one head\n",
    "print((test_sums == 2).mean())"
   ]
  },
  {
   "cell_type": "markdown",
   "metadata": {},
   "source": [
    "### 4. A die rolls an even number"
   ]
  },
  {
   "cell_type": "code",
   "execution_count": null,
   "metadata": {
    "collapsed": true
   },
   "outputs": [],
   "source": [
    "# simulate 1 million tests of one die roll\n",
    "tests = \n",
    "\n",
    "# proportion of tests that produced an even number\n"
   ]
  },
  {
   "cell_type": "markdown",
   "metadata": {},
   "source": [
    "### 5. Two dice roll a double"
   ]
  },
  {
   "cell_type": "code",
   "execution_count": null,
   "metadata": {
    "collapsed": true
   },
   "outputs": [],
   "source": [
    "# simulate the first million die rolls\n",
    "first = \n",
    "\n",
    "# simulate the second million die rolls\n",
    "second = \n",
    "\n",
    "# proportion of tests where the 1st and 2nd die rolled the same number\n"
   ]
  }
 ],
 "metadata": {
  "kernelspec": {
   "display_name": "Python 3",
   "language": "python",
   "name": "python3"
  },
  "language_info": {
   "codemirror_mode": {
    "name": "ipython",
    "version": 3
   },
   "file_extension": ".py",
   "mimetype": "text/x-python",
   "name": "python",
   "nbconvert_exporter": "python",
   "pygments_lexer": "ipython3",
   "version": "3.6.3"
  }
 },
 "nbformat": 4,
 "nbformat_minor": 2
}

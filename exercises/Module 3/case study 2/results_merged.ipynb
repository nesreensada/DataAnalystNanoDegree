{
 "cells": [
  {
   "cell_type": "markdown",
   "metadata": {},
   "source": [
    "# Results with Merged Dataset\n",
    "Remember to use your new dataset, `combined_dataset.csv`"
   ]
  },
  {
   "cell_type": "code",
   "execution_count": 1,
   "metadata": {},
   "outputs": [],
   "source": [
    "# load dataset\n",
    "import pandas as pd \n",
    "df = pd.read_csv('combined_dataset.csv')"
   ]
  },
  {
   "cell_type": "markdown",
   "metadata": {
    "collapsed": true
   },
   "source": [
    "### Q5: For all of the models that were produced in 2008 that are still being produced now, how much has the mpg improved and which vehicle improved the most?"
   ]
  },
  {
   "cell_type": "code",
   "execution_count": 4,
   "metadata": {},
   "outputs": [],
   "source": [
    "#Create a new dataframe, model_mpg, that contain the mean combined \n",
    "#mpg values in 2008 and 2018 for each unique model\n",
    "#To do this, group by model and find the mean cmb_mpg_2008 \n",
    "#and mean cmb_mpg for each.\n",
    "model_mpg_mean18 = df.groupby(['model','model_2008'])['cmb_mpg'].mean()\n",
    "model_mpg_mean08 = df.groupby(['model','model_2008'])['cmb_mpg_2008'].mean()"
   ]
  },
  {
   "cell_type": "code",
   "execution_count": 6,
   "metadata": {},
   "outputs": [
    {
     "data": {
      "text/plain": [
       "model                        model_2008                 \n",
       "ACURA RDX                    ACURA RDX                      -0.500000\n",
       "AUDI A3                      AUDI A3                         0.333333\n",
       "AUDI A4                      AUDI A4                         0.250000\n",
       "AUDI A6                      AUDI A6                        -3.000000\n",
       "AUDI A8 L                    AUDI A8 L                      -0.500000\n",
       "AUDI Q7                      AUDI Q7                         3.500000\n",
       "AUDI S4                      AUDI S4                         0.000000\n",
       "AUDI S5                      AUDI S5                       -13.000000\n",
       "AUDI TT Coupe                AUDI TT Coupe                   1.333333\n",
       "AUDI TT Roadster             AUDI TT Roadster                1.333333\n",
       "BMW 750i                     BMW 750i                       -0.500000\n",
       "BMW Alpina B7                BMW Alpina B7                   1.000000\n",
       "BMW M6 Convertible           BMW M6 Convertible              0.000000\n",
       "CADILLAC CTS                 CADILLAC CTS                   -0.800000\n",
       "CADILLAC Escalade            CADILLAC Escalade               6.000000\n",
       "CHEVROLET Corvette           CHEVROLET Corvette             -2.750000\n",
       "CHEVROLET Equinox            CHEVROLET Equinox              -9.333333\n",
       "CHEVROLET Impala             CHEVROLET Impala               12.750000\n",
       "CHEVROLET Malibu             CHEVROLET Malibu               -4.666667\n",
       "CHEVROLET Silverado 15       CHEVROLET Silverado 15         11.187500\n",
       "CHEVROLET Tahoe 1500         CHEVROLET Tahoe 1500            7.125000\n",
       "CHRYSLER 300                 CHRYSLER 300                    8.600000\n",
       "CHRYSLER Pacifica            CHRYSLER Pacifica              -5.333333\n",
       "DODGE Challenger             DODGE Challenger                2.000000\n",
       "DODGE Charger                DODGE Charger                   0.850000\n",
       "DODGE Durango                DODGE Durango                  -1.600000\n",
       "FORD F150                    FORD F150                       5.121212\n",
       "FORD Fusion                  FORD Fusion                    -7.000000\n",
       "GMC Acadia                   GMC Acadia                      4.750000\n",
       "GMC Sierra 15                GMC Sierra 15                   6.087500\n",
       "                                                              ...    \n",
       "KIA Sportage                 KIA Sportage                   -5.733333\n",
       "LEXUS LX 570                 LEXUS LX 570                    0.000000\n",
       "MASERATI Granturismo         MASERATI Granturismo            8.000000\n",
       "MAZDA 3                      MAZDA 3                        -7.233333\n",
       "MAZDA CX-9                   MAZDA CX-9                      2.000000\n",
       "MERCEDES-BENZ C300           MERCEDES-BENZ C300                   NaN\n",
       "MERCEDES-BENZ SL550          MERCEDES-BENZ SL550             4.000000\n",
       "NISSAN Armada                NISSAN Armada                   7.000000\n",
       "NISSAN Versa                 NISSAN Versa                    0.600000\n",
       "PORSCHE 911 Turbo            PORSCHE 911 Turbo               6.500000\n",
       "PORSCHE 911 Turbo Cabriolet  PORSCHE 911 Turbo Cabriolet     4.500000\n",
       "PORSCHE Boxster              PORSCHE Boxster                 0.166667\n",
       "PORSCHE Boxster S            PORSCHE Boxster S               2.500000\n",
       "PORSCHE Cayenne S            PORSCHE Cayenne S              -6.000000\n",
       "SUBARU Forester              SUBARU Forester                 6.833333\n",
       "SUBARU Impreza               SUBARU Impreza                 -9.000000\n",
       "SUBARU Legacy                SUBARU Legacy                  21.666667\n",
       "TOYOTA 4Runner               TOYOTA 4Runner                       NaN\n",
       "TOYOTA Avalon                TOYOTA Avalon                        NaN\n",
       "TOYOTA Camry                 TOYOTA Camry                         NaN\n",
       "TOYOTA Corolla               TOYOTA Corolla                       NaN\n",
       "TOYOTA Land Cruiser          TOYOTA Land Cruiser                  NaN\n",
       "TOYOTA RAV4                  TOYOTA RAV4                          NaN\n",
       "TOYOTA Sequoia               TOYOTA Sequoia                       NaN\n",
       "TOYOTA Tundra                TOYOTA Tundra                        NaN\n",
       "TOYOTA Yaris                 TOYOTA Yaris                         NaN\n",
       "VOLKSWAGEN Jetta             VOLKSWAGEN Jetta                     NaN\n",
       "VOLKSWAGEN Passat            VOLKSWAGEN Passat                    NaN\n",
       "VOLVO S60                    VOLVO S60                            NaN\n",
       "VOLVO XC 90                  VOLVO XC 90                          NaN\n",
       "Length: 72, dtype: float64"
      ]
     },
     "execution_count": 6,
     "metadata": {},
     "output_type": "execute_result"
    }
   ],
   "source": [
    "mpg_change = model_mpg_mean08 - model_mpg_mean18\n",
    "mpg_change"
   ]
  },
  {
   "cell_type": "code",
   "execution_count": 8,
   "metadata": {},
   "outputs": [
    {
     "data": {
      "text/plain": [
       "21.666666666666664"
      ]
     },
     "execution_count": 8,
     "metadata": {},
     "output_type": "execute_result"
    }
   ],
   "source": [
    "max(mpg_change.dropna())"
   ]
  },
  {
   "cell_type": "code",
   "execution_count": 9,
   "metadata": {},
   "outputs": [
    {
     "data": {
      "text/plain": [
       "model                        model_2008                 \n",
       "ACURA RDX                    ACURA RDX                      -0.500000\n",
       "AUDI A3                      AUDI A3                         0.333333\n",
       "AUDI A4                      AUDI A4                         0.250000\n",
       "AUDI A6                      AUDI A6                        -3.000000\n",
       "AUDI A8 L                    AUDI A8 L                      -0.500000\n",
       "AUDI Q7                      AUDI Q7                         3.500000\n",
       "AUDI S4                      AUDI S4                         0.000000\n",
       "AUDI S5                      AUDI S5                       -13.000000\n",
       "AUDI TT Coupe                AUDI TT Coupe                   1.333333\n",
       "AUDI TT Roadster             AUDI TT Roadster                1.333333\n",
       "BMW 750i                     BMW 750i                       -0.500000\n",
       "BMW Alpina B7                BMW Alpina B7                   1.000000\n",
       "BMW M6 Convertible           BMW M6 Convertible              0.000000\n",
       "CADILLAC CTS                 CADILLAC CTS                   -0.800000\n",
       "CADILLAC Escalade            CADILLAC Escalade               6.000000\n",
       "CHEVROLET Corvette           CHEVROLET Corvette             -2.750000\n",
       "CHEVROLET Equinox            CHEVROLET Equinox              -9.333333\n",
       "CHEVROLET Impala             CHEVROLET Impala               12.750000\n",
       "CHEVROLET Malibu             CHEVROLET Malibu               -4.666667\n",
       "CHEVROLET Silverado 15       CHEVROLET Silverado 15         11.187500\n",
       "CHEVROLET Tahoe 1500         CHEVROLET Tahoe 1500            7.125000\n",
       "CHRYSLER 300                 CHRYSLER 300                    8.600000\n",
       "CHRYSLER Pacifica            CHRYSLER Pacifica              -5.333333\n",
       "DODGE Challenger             DODGE Challenger                2.000000\n",
       "DODGE Charger                DODGE Charger                   0.850000\n",
       "DODGE Durango                DODGE Durango                  -1.600000\n",
       "FORD F150                    FORD F150                       5.121212\n",
       "FORD Fusion                  FORD Fusion                    -7.000000\n",
       "GMC Acadia                   GMC Acadia                      4.750000\n",
       "GMC Sierra 15                GMC Sierra 15                   6.087500\n",
       "                                                              ...    \n",
       "KIA Sportage                 KIA Sportage                   -5.733333\n",
       "LEXUS LX 570                 LEXUS LX 570                    0.000000\n",
       "MASERATI Granturismo         MASERATI Granturismo            8.000000\n",
       "MAZDA 3                      MAZDA 3                        -7.233333\n",
       "MAZDA CX-9                   MAZDA CX-9                      2.000000\n",
       "MERCEDES-BENZ C300           MERCEDES-BENZ C300                   NaN\n",
       "MERCEDES-BENZ SL550          MERCEDES-BENZ SL550             4.000000\n",
       "NISSAN Armada                NISSAN Armada                   7.000000\n",
       "NISSAN Versa                 NISSAN Versa                    0.600000\n",
       "PORSCHE 911 Turbo            PORSCHE 911 Turbo               6.500000\n",
       "PORSCHE 911 Turbo Cabriolet  PORSCHE 911 Turbo Cabriolet     4.500000\n",
       "PORSCHE Boxster              PORSCHE Boxster                 0.166667\n",
       "PORSCHE Boxster S            PORSCHE Boxster S               2.500000\n",
       "PORSCHE Cayenne S            PORSCHE Cayenne S              -6.000000\n",
       "SUBARU Forester              SUBARU Forester                 6.833333\n",
       "SUBARU Impreza               SUBARU Impreza                 -9.000000\n",
       "SUBARU Legacy                SUBARU Legacy                  21.666667\n",
       "TOYOTA 4Runner               TOYOTA 4Runner                       NaN\n",
       "TOYOTA Avalon                TOYOTA Avalon                        NaN\n",
       "TOYOTA Camry                 TOYOTA Camry                         NaN\n",
       "TOYOTA Corolla               TOYOTA Corolla                       NaN\n",
       "TOYOTA Land Cruiser          TOYOTA Land Cruiser                  NaN\n",
       "TOYOTA RAV4                  TOYOTA RAV4                          NaN\n",
       "TOYOTA Sequoia               TOYOTA Sequoia                       NaN\n",
       "TOYOTA Tundra                TOYOTA Tundra                        NaN\n",
       "TOYOTA Yaris                 TOYOTA Yaris                         NaN\n",
       "VOLKSWAGEN Jetta             VOLKSWAGEN Jetta                     NaN\n",
       "VOLKSWAGEN Passat            VOLKSWAGEN Passat                    NaN\n",
       "VOLVO S60                    VOLVO S60                            NaN\n",
       "VOLVO XC 90                  VOLVO XC 90                          NaN\n",
       "Length: 72, dtype: float64"
      ]
     },
     "execution_count": 9,
     "metadata": {},
     "output_type": "execute_result"
    }
   ],
   "source": [
    "mpg_change"
   ]
  }
 ],
 "metadata": {
  "kernelspec": {
   "display_name": "Python 3",
   "language": "python",
   "name": "python3"
  },
  "language_info": {
   "codemirror_mode": {
    "name": "ipython",
    "version": 3
   },
   "file_extension": ".py",
   "mimetype": "text/x-python",
   "name": "python",
   "nbconvert_exporter": "python",
   "pygments_lexer": "ipython3",
   "version": "3.6.3"
  }
 },
 "nbformat": 4,
 "nbformat_minor": 2
}
